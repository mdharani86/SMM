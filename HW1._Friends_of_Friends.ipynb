{
  {
   "cell_type": "markdown",
   "metadata": {},
   "source": [
    "---"
   ]
  },
  
  {
   "cell_type": "code",
   "execution_count": 2,
   "metadata": {
    "deletable": false,
    "editable": false,
    "nbgrader": {
     "cell_type": "code",
     "checksum": "53beaf5855a95af2e55e81c670e673a5",
     "grade": false,
     "grade_id": "cell-graph",
     "locked": true,
     "schema_version": 3,
     "solution": false,
     "task": false
    }
   },
   "outputs": [],
   "source": [
    "D = {\n",
    "    'Betty': ['Sue'],\n",
    "    'Sue': ['Betty', 'Alice', 'Pam' ,'Dale'],\n",
    "    'Alice': ['Sue', 'Jane', 'Pam', 'Dale'],\n",
    "    'Jane': ['Alice', 'Dale'],\n",
    "    'Pam': ['Sue', 'Carol', 'Alice'],\n",
    "    'Dale': ['Sue', 'Alice', 'Jane'],\n",
    "    'Carol': ['Pam', 'Tina'],\n",
    "    'Tina': ['Carol']\n",
    "}"
   ]
  },
  {
   "cell_type": "markdown",
   "metadata": {
    "deletable": false,
    "editable": false,
    "nbgrader": {
     "cell_type": "markdown",
     "checksum": "534ec5648791769229d6a2531484ab2e",
     "grade": false,
     "grade_id": "cell-6e7a39e0dc968257",
     "locked": true,
     "schema_version": 3,
     "solution": false,
     "task": false
    }
   },
   "source": [
    "## Compute the degrees\n",
    "\n",
    "<div class=\"alert alert-warning\">\n",
    "    Make sure to run the tests to see if your solution is correct. Solutions that do not pass their associated tests will not earn points.\n",
    "</div>"
   ]
  },
  {
   "cell_type": "code",
   "execution_count": 3,
   "metadata": {
    "deletable": false,
    "nbgrader": {
     "cell_type": "code",
     "checksum": "4c96cbb7768f23120d23fbe03c758c28",
     "grade": false,
     "grade_id": "cell-degreeof",
     "locked": false,
     "schema_version": 3,
     "solution": true,
     "task": false
    }
   },
   "outputs": [],
   "source": [
    "def degreeof(D, name):\n",
    "    \"\"\"\n",
    "    Compute degree of given person.\n",
    "    \n",
    "    Parameter\n",
    "    =========\n",
    "    D: dict\n",
    "        The graph represented as an adjacency list (a dictionary mapping \n",
    "        names of girls to the list of their friends)\n",
    "        \n",
    "    name : str\n",
    "        The name of a person\n",
    "        \n",
    "    Returns\n",
    "    =======\n",
    "    degree : int\n",
    "        The degree of the person with that name. If name is not a key of \n",
    "        the dictionary, then return -1\n",
    "    \"\"\"\n",
    "    # YOUR CODE HERE\n",
    "    \n",
    "    degree = len(D[name]) if name in [key for key,value in D.items()] else -1\n",
    "    return degree\n",
    "    \n",
    "#     raise NotImplementedError()"
   ]
  },
  {
   "cell_type": "code",
   "execution_count": 4,
   "metadata": {
    "deletable": false,
    "editable": false,
    "nbgrader": {
     "cell_type": "code",
     "checksum": "80b372385c3a3e2b4197f2604116ba84",
     "grade": true,
     "grade_id": "cell-test-degreeof",
     "locked": true,
     "points": 1,
     "schema_version": 3,
     "solution": false,
     "task": false
    },
    "scrolled": true
   },
   "outputs": [],
   "source": [
    "assert degreeof(D, \"Sue\") == 4, \"degreeof(L, \\\"Jane\\\") != 4\"\n",
    "assert degreeof(D, \"Justin\") == -1, \"degreeof(L, \\\"Justin\\\") != -1\""
   ]
  },
  {
   "cell_type": "markdown",
   "metadata": {
    "deletable": false,
    "editable": false,
    "nbgrader": {
     "cell_type": "markdown",
     "checksum": "d7f459f651120b806788a8aff92e5c1d",
     "grade": false,
     "grade_id": "cell-e62fe9831667b2f2",
     "locked": true,
     "schema_version": 3,
     "solution": false,
     "task": false
    }
   },
   "source": [
    "## Compute the total degree"
   ]
  },
  {
   "cell_type": "code",
   "execution_count": 5,
   "metadata": {
    "deletable": false,
    "nbgrader": {
     "cell_type": "code",
     "checksum": "0d652f1ac47e2e5557feed668f458640",
     "grade": false,
     "grade_id": "cell-totaldegree",
     "locked": false,
     "schema_version": 3,
     "solution": true,
     "task": false
    }
   },
   "outputs": [],
   "source": [
    "def totaldegree(D):\n",
    "    \"\"\"\n",
    "    Return the total degree in D\n",
    "    \n",
    "    Parameters\n",
    "    ==========\n",
    "    D : dict\n",
    "        The graph represented as an adjacency list (a dictionary mapping \n",
    "        names of girls to the list of their friends)\n",
    "        \n",
    "    Returns\n",
    "    =======\n",
    "    totdeg : int\n",
    "        The total degree of the graph, which is the sum of all node degrees\n",
    "    \"\"\"\n",
    "    # YOUR CODE HERE\n",
    "    \n",
    "    totdeg = 0\n",
    "    for key in D.keys():\n",
    "        totdeg = totdeg + degreeof(D,key)\n",
    "    return totdeg\n",
    "#     raise NotImplementedError()"
   ]
  },
  {
   "cell_type": "code",
   "execution_count": 6,
   "metadata": {
    "deletable": false,
    "editable": false,
    "nbgrader": {
     "cell_type": "code",
     "checksum": "1efdf481d072d8d4cb09db892826e6f8",
     "grade": true,
     "grade_id": "cell-test-totaldegree",
     "locked": true,
     "points": 1,
     "schema_version": 3,
     "solution": false,
     "task": false
    }
   },
   "outputs": [],
   "source": [
    "assert totaldegree(D) == 20, \"totaldegree(D) != 20\""
   ]
  },
  {
   "cell_type": "markdown",
   "metadata": {
    "deletable": false,
    "editable": false,
    "nbgrader": {
     "cell_type": "markdown",
     "checksum": "e8af6f4dd7e0fdfd819c4f9f9134f47a",
     "grade": false,
     "grade_id": "cell-fd77f4774b85495f",
     "locked": true,
     "schema_version": 3,
     "solution": false,
     "task": false
    }
   },
   "source": [
    "## Compute the total degree of friends"
   ]
  },
  {
   "cell_type": "code",
   "execution_count": 7,
   "metadata": {
    "deletable": false,
    "nbgrader": {
     "cell_type": "code",
     "checksum": "f0e9d8606e3f18e77a10105aad47f91f",
     "grade": false,
     "grade_id": "cell-totalfriendsdegree",
     "locked": false,
     "schema_version": 3,
     "solution": true,
     "task": false
    }
   },
   "outputs": [],
   "source": [
    "def totalfriendsdegree(D):\n",
    "    \"\"\"\n",
    "    Return the total degree of friends in D\n",
    "    \n",
    "    Parameters\n",
    "    ==========\n",
    "    D : dict\n",
    "        The graph represented as an adjacency list (a dictionary mapping \n",
    "        names of girls to the list of their friends)\n",
    "        \n",
    "    Returns\n",
    "    =======\n",
    "    totfrideg : int\n",
    "        The total degree of friends in the graph, which is the sum of the \n",
    "        degrees of all neighbors of a node, for each node in the graph\n",
    "    \"\"\"\n",
    "    # YOUR CODE HERE\n",
    "    \n",
    "    totfrideg = 0\n",
    "    for friendlist in D.values():\n",
    "        for name in friendlist:\n",
    "            totfrideg = totfrideg + degreeof(D,name)\n",
    "    return totfrideg\n",
    "#     raise NotImplementedError()"
   ]
  },
  {
   "cell_type": "code",
   "execution_count": 8,
   "metadata": {
    "deletable": false,
    "editable": false,
    "nbgrader": {
     "cell_type": "code",
     "checksum": "eb6461a1118ee51026942dbdf6a4ebe7",
     "grade": true,
     "grade_id": "cell-test-totalfriendsdegree",
     "locked": true,
     "points": 1,
     "schema_version": 3,
     "solution": false,
     "task": false
    }
   },
   "outputs": [],
   "source": [
    "assert totalfriendsdegree(D) == 60, \"totalfriendsdegree(D) != 60\""
   ]
  },
  {
   "cell_type": "markdown",
   "metadata": {
    "deletable": false,
    "editable": false,
    "nbgrader": {
     "cell_type": "markdown",
     "checksum": "2c469b66547f8f8d1f9f4ae40f5e650b",
     "grade": false,
     "grade_id": "cell-1878769705a6aab3",
     "locked": true,
     "schema_version": 3,
     "solution": false,
     "task": false
    }
   },
   "source": [
    "## Compute the average degree "
   ]
  },
  {
   "cell_type": "code",
   "execution_count": 9,
   "metadata": {
    "deletable": false,
    "nbgrader": {
     "cell_type": "code",
     "checksum": "bfacb25c5f706d858fc4a469448f91b9",
     "grade": false,
     "grade_id": "cell-avgdegree",
     "locked": false,
     "schema_version": 3,
     "solution": true,
     "task": false
    }
   },
   "outputs": [],
   "source": [
    "def avgdegree(D):\n",
    "    \"\"\"\n",
    "    Return the total degree in D\n",
    "    \n",
    "    Parameters\n",
    "    ==========\n",
    "    D : dict\n",
    "        The graph represented as an adjacency list (a dictionary mapping \n",
    "        names of girls to the list of their friends)\n",
    "        \n",
    "    Returns\n",
    "    =======\n",
    "    avgdeg : float\n",
    "        The average degree of the graph\n",
    "    \"\"\"\n",
    "    # YOUR CODE HERE\n",
    "    avgdeg = totaldegree(D)/len(D)\n",
    "    return avgdeg\n",
    "#     raise NotImplementedError()"
   ]
  },
  {
   "cell_type": "code",
   "execution_count": 10,
   "metadata": {
    "deletable": false,
    "editable": false,
    "nbgrader": {
     "cell_type": "code",
     "checksum": "5bd2ed6c792ae89bffe2a024f7234a8e",
     "grade": true,
     "grade_id": "cell-test-avgdegree",
     "locked": true,
     "points": 1,
     "schema_version": 3,
     "solution": false,
     "task": false
    }
   },
   "outputs": [],
   "source": [
    "assert avgdegree(D) == 2.5, \"avgdegree(D) != 2.5\""
   ]
  },
  {
   "cell_type": "markdown",
   "metadata": {
    "deletable": false,
    "editable": false,
    "nbgrader": {
     "cell_type": "markdown",
     "checksum": "86f152d52d7518d997af8bc8a0569657",
     "grade": false,
     "grade_id": "cell-8237918f545220ea",
     "locked": true,
     "schema_version": 3,
     "solution": false,
     "task": false
    }
   },
   "source": [
    "## Compute the average degree of friends"
   ]
  },
  {
   "cell_type": "code",
   "execution_count": 11,
   "metadata": {
    "deletable": false,
    "nbgrader": {
     "cell_type": "code",
     "checksum": "5150d9dfb6daa042de2f8a1b0bb3501a",
     "grade": false,
     "grade_id": "cell-avgfriendsdegree",
     "locked": false,
     "schema_version": 3,
     "solution": true,
     "task": false
    }
   },
   "outputs": [],
   "source": [
    "def avgfriendsdegree(D):\n",
    "    \"\"\"\n",
    "    Return the total degree in D\n",
    "    \n",
    "    Parameters\n",
    "    ==========\n",
    "    D : dict\n",
    "        The graph represented as an adjacency list (a dictionary mapping \n",
    "        names of girls to the list of their friends)\n",
    "        \n",
    "    Returns\n",
    "    =======\n",
    "    avgfrideg : float\n",
    "        The average degree of friends in the graph\n",
    "    \"\"\"\n",
    "    # YOUR CODE HERE\n",
    "    \n",
    "    avgfrideg = totalfriendsdegree(D)/totaldegree(D)\n",
    "    return avgfrideg\n",
    "    \n",
    "#     raise NotImplementedError()"
   ]
  },
  {
   "cell_type": "code",
   "execution_count": 12,
   "metadata": {
    "deletable": false,
    "editable": false,
    "nbgrader": {
     "cell_type": "code",
     "checksum": "936085fcb6244d275b08e8195a48b7ee",
     "grade": true,
     "grade_id": "cell-test-avgfriendsdegree",
     "locked": true,
     "points": 1,
     "schema_version": 3,
     "solution": false,
     "task": false
    }
   },
   "outputs": [],
   "source": [
    "assert avgfriendsdegree(D) == 3.0, \"averagefriendsdegree(D) != 3.0\""
   ]
  }
 ],
 "metadata": {
  "kernelspec": {
   "display_name": "Python 3",
   "language": "python",
   "name": "python3"
  },
  "language_info": {
   "codemirror_mode": {
    "name": "ipython",
    "version": 3
   },
   "file_extension": ".py",
   "mimetype": "text/x-python",
   "name": "python",
   "nbconvert_exporter": "python",
   "pygments_lexer": "ipython3",
   "version": "3.8.3"
  }
 },
 "nbformat": 4,
 "nbformat_minor": 4
}
